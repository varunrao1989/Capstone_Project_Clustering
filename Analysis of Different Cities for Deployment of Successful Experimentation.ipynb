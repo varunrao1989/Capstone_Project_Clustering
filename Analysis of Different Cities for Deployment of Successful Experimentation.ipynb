{
 "cells": [
  {
   "cell_type": "markdown",
   "metadata": {},
   "source": [
    "## 1. A description of the problem and a discussion of the background"
   ]
  },
  {
   "cell_type": "markdown",
   "metadata": {},
   "source": [
    "# Introduction/Business Problem\n",
    "When companies deploy new projects, it is done through experimentation. An experiment is run in a controlled environment OR in many cases in a suitable pilot location, and if successful, it is expanded to other locations. While deciding what other locations one should deploy such projects, it is always beneficial to have a good comparison of target locations with the location already experimented on, based on appropriate parameters. This can be achieved by realizing how similar or dis-similar the locations are. \n",
    "\n",
    "In this project we will aim to solve three seperate scenarios (having the same problem above) through Clustering:\n",
    "\n",
    "1.A company like Amazon/Walmart were thinking long-term and wanted to have their own logistics fleet for better control and reliability. They ran an experiment in New York City to determine where to establish new package drop-off locations, to make it more convinient for their customers to return something. The experiment was a success and they have regonized that best target cities are Toronto and San Francisco.\n",
    "We solve the problem of what areas in Toronto and San Francisco should they target to set up these drop off locations.\n",
    "\n",
    "2.A company like Trip Advisor wants to recommend me locations in San Francisco based on what I did in New York City.\n",
    "We solve the problem of recommending locations in a new city based on similarities in the previous one.\n",
    "\n",
    "3.Clusters in different cities can also help companies determine where, in different cities, they can deploy self driving cars to pilot test (based on successful experimentation for pilot tests in one city). Lets consider Waymo, Uber or Tesla are at that stage where level 5 cars can be tested on roads with real customers. They would like to know where they can deploy their cars, after a successful test (again) in New York City. They have identified that San Francisco and Toronto are two metros that are open to this. \n",
    "We solve the problem of Identifying where they can deploy their first cars in San Francisco and Toronto.\n",
    "\n",
    "* Note there are a lot of assumptions made to create these scenarios and the focus of \"this\" work is clustering venues in the three cities to see what are similar areas between the three and how they can be identified after the target locations (San Francisco and Toronto) have been identified.\n",
    "\n"
   ]
  },
  {
   "cell_type": "markdown",
   "metadata": {},
   "source": [
    "## 2. A description of the data and how it will be used to solve the problem"
   ]
  },
  {
   "cell_type": "markdown",
   "metadata": {},
   "source": [
    "# Data\n",
    "\n",
    "In order to cluster different areas of the three cities mentioned above, we will consider each area within a city as a \"neighborhood\". The data set for all three cities was cleaned from sources (below), to represent the 'Neighborhood' with corresponding latitudes and longitudes of each neighborhood's approximate center and is stored in \"combined_df\" dataframe. Details on three Indivudual data sources:\n",
    "\n",
    "1. Toronto DataSet: This dataframe in csv was combined using two different datasets:\n",
    "    - Postal Codes List in Toronto (which was exported and saves as an xslx file). This file contained the postal codes and corresponding Neighborhood names. https://en.wikipedia.org/wiki/List_of_postal_codes_of_Canada:_M\n",
    "    - Geospatial File that has the latitude and longitudes and has been provided by Coursera http://cocl.us/Geospatial_data\n",
    "2. New York DataSet: This data set was extracted from https://geo.nyu.edu/catalog/nyu_2451_34572\n",
    "3. San Francisco DataSet: This data was extracted from https://geodata.lib.berkeley.edu/catalog/ark28722-s75c8t\n",
    "\n",
    "We will use the three datasets to create one Merged dataset that has all neighborhoods of all three cities. We will extract Venues for each neighborhood from Foursquare and cluster the neighborhoods to determine similarities inter-city neighborhoods and intra-city neighborhoods. We will focus more in \"inter-city\" relationships as it will be used to solve all three problems stated in the first section."
   ]
  }
 ],
 "metadata": {
  "kernelspec": {
   "display_name": "Python 3",
   "language": "python",
   "name": "python3"
  },
  "language_info": {
   "codemirror_mode": {
    "name": "ipython",
    "version": 3
   },
   "file_extension": ".py",
   "mimetype": "text/x-python",
   "name": "python",
   "nbconvert_exporter": "python",
   "pygments_lexer": "ipython3",
   "version": "3.7.3"
  }
 },
 "nbformat": 4,
 "nbformat_minor": 2
}
